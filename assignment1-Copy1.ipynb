{
 "cells": [
  {
   "cell_type": "markdown",
   "id": "64e2c572",
   "metadata": {},
   "source": [
    "vishal jadhav python online batch\n",
    "\n",
    "assignment form  core to web  for if else conditional statments \n",
    "\n",
    "Python Assignment 1s\n",
    "Topics - If Else\n",
    "1. Program 1: Write a Program to Find a Maximum between two numbers\n",
    "Input: 1 2\n",
    "Output: 2 is Max number between 1 & 2\n",
    "2. Program 2: Write a Program to check whether the number is Negative,\n",
    "Positive or equal to Zero.\n",
    "Input: -2\n",
    "Output: -2 is the negative number\n",
    "3. Program 3: Write a Program to Find whether the number Is Even or Odd\n",
    "Input: 4\n",
    "Output: 4 is an Even Number!\n",
    "4. Program 4: Write a Program to check whether the number is divisible by 5\n",
    "or not.\n",
    "Input: 55\n",
    "Output: 55 is divisible by 5\n",
    "5. Program 5: Write a Program to take an integer ranging from 0 to 6 and print\n",
    "corresponding weekday (week starting from Monday)\n",
    "Input: 2\n",
    "Output: Wednesday.\n",
    "6. Program 6: Write a Program to check whether the Character is Alphabet or\n",
    "not.\n",
    "Input: v\n",
    "Output: v is an alphabet.\n",
    "\n",
    "7. Program 7: Write a Program to take a number of months and print the number of\n",
    "days in that month.\n",
    "Input: 4\n",
    "Output: April is a 30-day month.\n",
    "8. Program 8: Write a program to check whether the number is greater than 10 or\n",
    "not\n",
    "Input: 12\n",
    "Output: yes 12 is greater than 10\n",
    "Input: 2\n",
    "Output: no 2 is less than 10\n",
    "5. Program 5: Write a Program to take an integer ranging from 0 to 6 and print\n",
    "corresponding weekday (week starting from Monday)\n",
    "Input: 2\n",
    "Output: Wednesday.\n",
    "6. Program 6: Write a Program to check whether the Character is Alphabet or\n",
    "not.\n",
    "Input: v\n",
    "Output: v is an alphabet.\n",
    "\n",
    "7. Program 7: Write a Program to take a number of months and print the number of\n",
    "days in that month.\n",
    "Input: 4\n",
    "Output: April is a 30-day month.\n",
    "8. Program 8: Write a program to check whether the number is greater than 10 or\n",
    "not\n",
    "Input: 12\n",
    "Output: yes 12 is greater than 10\n",
    "\n",
    "Input: 2\n",
    "Output: no 2 is less than 10"
   ]
  },
  {
   "cell_type": "markdown",
   "id": "6cf2ea35",
   "metadata": {},
   "source": [
    "# program1\n"
   ]
  },
  {
   "cell_type": "code",
   "execution_count": 1,
   "id": "39b0c494",
   "metadata": {},
   "outputs": [
    {
     "name": "stdout",
     "output_type": "stream",
     "text": [
      "2 is the max number  1 & 2\n"
     ]
    }
   ],
   "source": [
    "x=1\n",
    "y=2\n",
    "\n",
    "if (x<y):\n",
    "    print(\"%d is the max number \"%y,x,\"&\",y)"
   ]
  },
  {
   "cell_type": "markdown",
   "id": "30a38434",
   "metadata": {},
   "source": [
    "### program2\n",
    "\n"
   ]
  },
  {
   "cell_type": "code",
   "execution_count": 2,
   "id": "106b8ebc",
   "metadata": {},
   "outputs": [
    {
     "name": "stdout",
     "output_type": "stream",
     "text": [
      "Enter a number: 2\n",
      "2 is a positive number\n"
     ]
    }
   ],
   "source": [
    "# Taking user input\n",
    "num = int(input(\"Enter a number: \"))\n",
    "\n",
    "# Checking the number using if statements\n",
    "if num > 0:\n",
    "    print(f\"{num} is a positive number\")\n",
    "elif num < 0:\n",
    "    print(f\"{num} is a negative numb5er\")\n",
    "else:\n",
    "    print(f\"{num} is equal to zero\")\n"
   ]
  },
  {
   "cell_type": "markdown",
   "id": "337184b1",
   "metadata": {},
   "source": [
    "### program3\n",
    "\n"
   ]
  },
  {
   "cell_type": "code",
   "execution_count": null,
   "id": "d7a6f092",
   "metadata": {},
   "outputs": [],
   "source": [
    "x=int(input(\"enter the number\"))\n",
    "if x%2==0:\n",
    "    print(\"%d is even number\"%x)\n",
    "else:\n",
    "    print(\"%d is odd number\"%x)"
   ]
  },
  {
   "cell_type": "markdown",
   "id": "9768e256",
   "metadata": {},
   "source": [
    "### program  4\n",
    "###\n",
    "\n",
    "\n"
   ]
  },
  {
   "cell_type": "code",
   "execution_count": null,
   "id": "5e191ad7",
   "metadata": {},
   "outputs": [],
   "source": [
    "x=int(input(\"Enter The Number\"))\n",
    "if x % 5==0:\n",
    "    print(\"%d is Divisible by 5\"%x)\n",
    "else:\n",
    "    print(\"%d is not Divisible by 5\"%x)"
   ]
  },
  {
   "cell_type": "markdown",
   "id": "55586506",
   "metadata": {},
   "source": [
    "### program  5\n",
    "###\n",
    "\n",
    "\n"
   ]
  },
  {
   "cell_type": "code",
   "execution_count": null,
   "id": "b02d35da",
   "metadata": {},
   "outputs": [],
   "source": []
  },
  {
   "cell_type": "code",
   "execution_count": null,
   "id": "2564c46a",
   "metadata": {},
   "outputs": [],
   "source": [
    "data = int(input(\"Enter The NUmber\"))\n",
    "if data==0:\n",
    "    print(\"Monday\")\n",
    "elif data==1:\n",
    "    print(\"Tuesday\")\n",
    "elif data==2:\n",
    "    print(\"Wednesday\")\n",
    "elif data==3:\n",
    "    print(\"Thursday\")\n",
    "elif data==4:\n",
    "    print(\"Friday\")\n",
    "elif data==5:\n",
    "    print(\"Saturday\")\n",
    "elif data==6:\n",
    "    print(\"sunday\")\n",
    "\n",
    "\n"
   ]
  },
  {
   "cell_type": "markdown",
   "id": "161c718e",
   "metadata": {},
   "source": [
    "### program  6\n",
    "###\n",
    "\n",
    "\n"
   ]
  },
  {
   "cell_type": "code",
   "execution_count": null,
   "id": "fd1ce7cb",
   "metadata": {},
   "outputs": [],
   "source": [
    "char = input(\"Enter a character: \")\n",
    "if len(char) == 1 and ('a' <= char <= 'z' or 'A' <= char <= 'Z'):\n",
    "    print(\"%c is an alphabet.\" %char)\n",
    "else:\n",
    "    print(\"%s is not an alphabet.\"%char)"
   ]
  },
  {
   "cell_type": "markdown",
   "id": "18238a47",
   "metadata": {},
   "source": [
    "### program  7\n",
    "###\n",
    "\n",
    "\n"
   ]
  },
  {
   "cell_type": "code",
   "execution_count": null,
   "id": "fa2f5ee8",
   "metadata": {},
   "outputs": [],
   "source": [
    "month_num =int(input(\"INput Munth number\"))\n",
    "\n",
    "if month_num==1:\n",
    "    print(\"January has 31 days\")\n",
    "if month_num == 2:\n",
    "    print(\"February has 28/39 days\")\n",
    "if month_num == 3:\n",
    "    print(\"march has 31 days\")\n",
    "if month_num == 4:\n",
    "    print(\"April has 30 days\")\n",
    "if month_num == 5:\n",
    "    print(\"May has 31 days\")\n",
    "if month_num == 6:\n",
    "    print(\"June has 30 days\")\n",
    "if month_num == 7:\n",
    "    print(\"July has 31 days\")\n",
    "if month_num == 8:\n",
    "    print(\"August has 31 days\")\n",
    "if month_num == 9:\n",
    "    print(\"September has 30 days\")\n",
    "if month_num == 10:\n",
    "    print(\"octomber has 31 days\")\n",
    "if month_num == 11:\n",
    "    print(\"November has 30 days\")\n",
    "if month_num == 12:\n",
    "    print(\"December has 31 days\")\n"
   ]
  },
  {
   "cell_type": "markdown",
   "id": "73c4ec27",
   "metadata": {},
   "source": [
    "### program  8\n",
    "###\n",
    "\n",
    "\n"
   ]
  },
  {
   "cell_type": "code",
   "execution_count": null,
   "id": "db00a7de",
   "metadata": {},
   "outputs": [],
   "source": [
    "num=int(input(\"Enter the number\"))\n",
    "if num<10:\n",
    "    print(\"%d n0 number is less than 10\" %num)\n",
    "elif num>10:\n",
    "    print(\"%d yes number is grater than 10\"%num)\n",
    "elif num==10:\n",
    "    print(\"%d number is equal to  10\"%num)\n",
    "else:\n",
    "    print(\"Invalid Input\")"
   ]
  },
  {
   "cell_type": "markdown",
   "id": "8bfac9c3",
   "metadata": {},
   "source": [
    "### program  9\n",
    "###\n",
    "\n",
    "\n"
   ]
  },
  {
   "cell_type": "code",
   "execution_count": null,
   "id": "b5b7f81b",
   "metadata": {},
   "outputs": [],
   "source": [
    "char = input('enter character : ')\n",
    "if len(char) == 1 and ((char == 'a' or char == 'e' or char == 'i' or char == 'o' or char\n",
    "== 'u')):\n",
    "    print(\"vowel\")\n",
    "elif len(char) == 1 and ((char >= 'a' and char<='z') and (char != 'a' and char != 'e'\n",
    "and char != 'i' and char !='e' and char != 'o')):\n",
    "    print(\"Consonant\")\n",
    "else:\n",
    "    print('Special Character')"
   ]
  },
  {
   "cell_type": "markdown",
   "id": "cb7d1e0a",
   "metadata": {},
   "source": [
    "### program  10\n",
    "###\n",
    "\n",
    "\n"
   ]
  },
  {
   "cell_type": "code",
   "execution_count": null,
   "id": "1544cf5d",
   "metadata": {},
   "outputs": [],
   "source": [
    "year = int(input(\"Enter a year: \"))\n",
    "\n",
    "if (year % 4 == 0 and year % 100 != 0) or (year % 400 == 0):\n",
    "    print(\"%d is a leap year\" %year)\n",
    "else:\n",
    "    print(\"%d is not a leap year\"%year)"
   ]
  }
 ],
 "metadata": {
  "kernelspec": {
   "display_name": "Python 3 (ipykernel)",
   "language": "python",
   "name": "python3"
  },
  "language_info": {
   "codemirror_mode": {
    "name": "ipython",
    "version": 3
   },
   "file_extension": ".py",
   "mimetype": "text/x-python",
   "name": "python",
   "nbconvert_exporter": "python",
   "pygments_lexer": "ipython3",
   "version": "3.11.5"
  }
 },
 "nbformat": 4,
 "nbformat_minor": 5
}
