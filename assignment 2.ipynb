{
 "cells": [
  {
   "cell_type": "markdown",
   "id": "d974c1dd",
   "metadata": {},
   "source": [
    "vishal jadhav forn online python batch\n",
    "\n",
    "\n",
    "assignment no 2 if else \n",
    "\n",
    "Assignment 2\n",
    "\n",
    "1. WAP to check numbers are divisible by 4 and 5\n",
    "Print those numbers\n",
    "Input1: num1 =20\n",
    "Output:\n",
    "20 is divisible by 4 and 5\n",
    "Input1: num1 =15\n",
    "Output:\n",
    "15 is not divisible by 4 and 5\n",
    "\n",
    "2. WAP to determine whether entered angles define a right-angled triangle.\n",
    "Take three values of angle from the user.\n",
    "Input1: angel1 = 90\n",
    "Input2: angle2 = 90\n",
    "Input3: angle3 = 90\n",
    "Output:\n",
    "It is not a right-angle triangle\n",
    "Input1: angel1 = 90\n",
    "Input2: angle2 = 60\n",
    "Input3: angle3 = 30\n",
    "Output:\n",
    "It is a right-angle triangle\n",
    "\n",
    "3. Take two numbers from users and print the sum of those numbers\n",
    "if the sum is even.\n",
    "Input1: num1 = 10\n",
    "Input2: num2 = 20\n",
    "Output: 30 is Even\n",
    "\n",
    "Input1: num1 = 10\n",
    "Input2: num2 = 15\n",
    "Output: No Output\n",
    "\n",
    "4. Take a number from the user and check whether it is present in the list. If\n",
    "it's in the list, print \"Available.\"\n",
    "List1 = [10, 20, 30, 40, 50]\n",
    "#input: num = 10\n",
    "#Output: available\n",
    "#input num = 15\n",
    "#Output:No Output\n",
    "\n",
    "5. Print the \"Core2web\" string a number of times entered by the user if the\n",
    "number is even.\n",
    "#Input: num = 2\n",
    "#Output: Core2web\n",
    "Core2web\n",
    "#Input: num = 5\n",
    "#Output: No Output\n",
    "6. Write a program that checks if a given number is odd using the \"if\"\n",
    "statement.\n",
    "#Input num = 13\n",
    "#Output: Odd\n",
    "#Input: num = 12\n",
    "#Output: No Output\n",
    "\n",
    "7. Take two numbers from the user, check if both are odd and then print the\n",
    "sum of the numbers.\n",
    "#Input: num1 = 10\n",
    "#Input: num2 = 11\n",
    "#Output: 21\n",
    "#Input: num1 = 10\n",
    "#Input: num2 = 6\n",
    "#Output: No Output\n",
    "8. Take single character from user check if the ascii value of character is\n",
    "Even the print character.\n",
    "#Input char1 = ‘B’\n",
    "#Output: B\n",
    "#Input char1 = ‘C’\n",
    "#Output: No Output\n",
    "\n",
    "9. Take Two character from user check if the ascii value both of character are\n",
    "odd then print the sum of ascii values of character\n",
    "#Input: char1 = ‘A’\n",
    "char2 = ‘C’\n",
    "#Output: 132\n",
    "#Input: char1 = ‘a’\n",
    "char2 = ‘b’\n",
    "#Output:No Output\n",
    "10. Take the number from user and modulus with 8 if the reminder of the\n",
    "number is 3 then print reminder.\n",
    "#Input num = 27\n",
    "#Output: 3\n",
    "#Input: num = 10\n",
    "#Output: No Output"
   ]
  },
  {
   "cell_type": "markdown",
   "id": "7dd20e51",
   "metadata": {},
   "source": [
    "### program 1\n",
    "\n"
   ]
  },
  {
   "cell_type": "code",
   "execution_count": 2,
   "id": "c7117030",
   "metadata": {},
   "outputs": [
    {
     "name": "stdout",
     "output_type": "stream",
     "text": [
      "Enter the number20\n",
      "20 is divided by 4 and 5\n"
     ]
    }
   ],
   "source": [
    "num=int(input(\"Enter the number\"))\n",
    "if num%4==0 and num%5==0:\n",
    "    print(\"%d is divided by 4 and 5\" %num)\n",
    "else:\n",
    "    print(\"%d is  not divided by 4 and 5\" %num)"
   ]
  },
  {
   "cell_type": "markdown",
   "id": "db6cc278",
   "metadata": {},
   "source": [
    "### program 2\n"
   ]
  },
  {
   "cell_type": "code",
   "execution_count": 10,
   "id": "e3dc1c09",
   "metadata": {},
   "outputs": [
    {
     "name": "stdout",
     "output_type": "stream",
     "text": [
      "Input the angle190\n",
      "Input the angle260\n",
      "Input the angle330\n",
      "It is an right-angle Trangle\n"
     ]
    }
   ],
   "source": [
    "angle1=int(input(\"Input the angle1\" ))\n",
    "angle2=int(input(\"Input the angle2\"))\n",
    "angle3=int(input(\"Input the angle3\"))\n",
    "\n",
    "if angle1==90 and angle2==60 and angle3==30:\n",
    "    print(\"It is an right-angle Trangle\")\n",
    "else:\n",
    "    print(\"it is not an right angle trangle\")"
   ]
  },
  {
   "cell_type": "markdown",
   "id": "4c310f12",
   "metadata": {},
   "source": [
    "### program 3"
   ]
  },
  {
   "cell_type": "code",
   "execution_count": 9,
   "id": "27629d57",
   "metadata": {},
   "outputs": [
    {
     "name": "stdout",
     "output_type": "stream",
     "text": [
      "Entre the first number15\n",
      "Entre the second number16\n"
     ]
    }
   ],
   "source": [
    "num1=int(input(\"Entre the first number\"))\n",
    "num2=int(input(\"Entre the second number\"))\n",
    "x=num1+num2\n",
    "if x%2==0:\n",
    "    print(\"%d is even\"%x)\n",
    "else:\n",
    "    pass"
   ]
  },
  {
   "cell_type": "markdown",
   "id": "2d89c1f1",
   "metadata": {},
   "source": [
    "### program 4"
   ]
  },
  {
   "cell_type": "code",
   "execution_count": 20,
   "id": "adf6689f",
   "metadata": {},
   "outputs": [
    {
     "name": "stdout",
     "output_type": "stream",
     "text": [
      "enter the number20\n",
      "yes present\n"
     ]
    }
   ],
   "source": [
    "List1 = [10, 20, 30, 40, 50]\n",
    "x=int(input(\"enter the number\"))\n",
    "\n",
    "####List1.append(x)\n",
    "\n",
    "if x in List1:\n",
    "    print(\"yes present\")\n",
    "else:\n",
    "    pass"
   ]
  },
  {
   "cell_type": "markdown",
   "id": "42046c28",
   "metadata": {},
   "source": [
    "### program5"
   ]
  },
  {
   "cell_type": "code",
   "execution_count": 26,
   "id": "91bb235c",
   "metadata": {},
   "outputs": [
    {
     "name": "stdout",
     "output_type": "stream",
     "text": [
      "enter the number2\n",
      "core2web\n",
      "core2web\n"
     ]
    }
   ],
   "source": [
    "x=\"core2web\"\n",
    "y=int(input(\"enter the number\"))\n",
    "\n",
    "if y%2==0:\n",
    "    for i in range(y):\n",
    "        print(x)"
   ]
  },
  {
   "cell_type": "markdown",
   "id": "8490d660",
   "metadata": {},
   "source": [
    "### program6"
   ]
  },
  {
   "cell_type": "code",
   "execution_count": 28,
   "id": "cc739f61",
   "metadata": {},
   "outputs": [
    {
     "name": "stdout",
     "output_type": "stream",
     "text": [
      "enter the number12\n"
     ]
    }
   ],
   "source": [
    "num=int(input(\"enter the number\"))\n",
    "if num%2==1:\n",
    "    print(\"odd\")"
   ]
  },
  {
   "cell_type": "markdown",
   "id": "d9c1ac26",
   "metadata": {},
   "source": [
    "### program7"
   ]
  },
  {
   "cell_type": "code",
   "execution_count": 29,
   "id": "226b686f",
   "metadata": {},
   "outputs": [
    {
     "name": "stdout",
     "output_type": "stream",
     "text": [
      "enter the number11\n",
      "enter the number 211\n",
      "22\n"
     ]
    }
   ],
   "source": [
    "num=int(input(\"enter the number\"))\n",
    "num1=int(input(\"enter the number 2\"))\n",
    "x=num+num1\n",
    "if num%2==1  and num1%2==1:\n",
    "    print(x)\n",
    "else:\n",
    "    pass"
   ]
  },
  {
   "cell_type": "markdown",
   "id": "6e03fd15",
   "metadata": {},
   "source": [
    "### program 8\n"
   ]
  },
  {
   "cell_type": "code",
   "execution_count": 32,
   "id": "2240042b",
   "metadata": {},
   "outputs": [
    {
     "name": "stdout",
     "output_type": "stream",
     "text": [
      "enter letterc\n"
     ]
    }
   ],
   "source": [
    "char=input(\"enter letter\")\n",
    "ascii_value = ord(char)  \n",
    "if ascii_value % 2 == 0:\n",
    "        print(char)\n",
    "else:\n",
    "        pass"
   ]
  },
  {
   "cell_type": "markdown",
   "id": "f49aeef0",
   "metadata": {},
   "source": [
    "### program 9"
   ]
  },
  {
   "cell_type": "code",
   "execution_count": 33,
   "id": "4a80d4bb",
   "metadata": {},
   "outputs": [
    {
     "name": "stdout",
     "output_type": "stream",
     "text": [
      "enter lettera\n",
      "enter letter no 2c\n",
      "196\n"
     ]
    }
   ],
   "source": [
    "char=input(\"enter letter\")\n",
    "char1=input(\"enter letter no 2\")\n",
    "ascii_value = ord(char)\n",
    "ascii_value2 =ord(char1)\n",
    "z=ascii_value+ascii_value2\n",
    "\n",
    "if ascii_value % 2 == 1 and ascii_value2 %2 ==1 :\n",
    "        print(z)\n",
    "else:\n",
    "        pass"
   ]
  },
  {
   "cell_type": "markdown",
   "id": "b08994dd",
   "metadata": {},
   "source": [
    "### program 10\n"
   ]
  },
  {
   "cell_type": "code",
   "execution_count": 40,
   "id": "a6f4c097",
   "metadata": {},
   "outputs": [
    {
     "name": "stdout",
     "output_type": "stream",
     "text": [
      "enter the number91\n",
      "3\n"
     ]
    }
   ],
   "source": [
    "num=int(input(\"enter the number\"))\n",
    "if num%8//3:\n",
    "    print(\"3\")\n",
    "else:\n",
    "    pass"
   ]
  },
  {
   "cell_type": "code",
   "execution_count": null,
   "id": "24131a22",
   "metadata": {},
   "outputs": [],
   "source": []
  }
 ],
 "metadata": {
  "kernelspec": {
   "display_name": "Python 3 (ipykernel)",
   "language": "python",
   "name": "python3"
  },
  "language_info": {
   "codemirror_mode": {
    "name": "ipython",
    "version": 3
   },
   "file_extension": ".py",
   "mimetype": "text/x-python",
   "name": "python",
   "nbconvert_exporter": "python",
   "pygments_lexer": "ipython3",
   "version": "3.11.5"
  }
 },
 "nbformat": 4,
 "nbformat_minor": 5
}
